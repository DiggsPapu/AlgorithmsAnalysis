{
 "cells": [
  {
   "cell_type": "markdown",
   "metadata": {},
   "source": [
    "# Algoritmo Move To Front (MTF)\n",
    "Diego Andrés Alonzo Medinilla\n",
    "20172"
   ]
  },
  {
   "cell_type": "markdown",
   "metadata": {},
   "source": [
    "## Implementación"
   ]
  },
  {
   "cell_type": "code",
   "execution_count": 1,
   "metadata": {},
   "outputs": [],
   "source": [
    "\n",
    "# Function to remove a value from the list\n",
    "def removeValue(configurationList, value, binaryCounter):\n",
    "    for index in range(0,len(configurationList)):\n",
    "        binaryCounter+=1\n",
    "        if value == configurationList[index]:\n",
    "            configurationList.pop(index)\n",
    "            return [configurationList, binaryCounter]\n",
    "    return [configurationList, binaryCounter]\n",
    "# Function to add a value to the top\n",
    "def addValue(configurationList, value, binaryCounter):\n",
    "    configurationList.insert(0,value)\n",
    "    return [configurationList, binaryCounter]\n",
    "# MTF Algorithm\n",
    "def MTF(configurationList, requestList):\n",
    "    totalCost = 0\n",
    "    for request in requestList:\n",
    "        cost = 0\n",
    "        configurationList, cost = removeValue(configurationList, request, cost)\n",
    "        configurationList, cost = addValue(configurationList, request, cost)\n",
    "        totalCost += cost\n",
    "        print(\"Configuration List: \",configurationList,\" Request: \", request,\" Cost: \",cost)\n",
    "    print(\"Configuration List: \",configurationList,\" Total Cost: \",totalCost)\n",
    "    return configurationList"
   ]
  },
  {
   "cell_type": "markdown",
   "metadata": {},
   "source": [
    "## Problema 1\n",
    "Calcular el costo de acceso utilizando el algoritmo MTF para:\n",
    "* Lista de configuración: 0,1,2,3,4\n",
    "* Secuencia de solicitudes: 0,1,2,3,4,0,1,2,3,4,0,1,2,3,4,0,1,2,3,4"
   ]
  },
  {
   "cell_type": "code",
   "execution_count": 2,
   "metadata": {},
   "outputs": [
    {
     "name": "stdout",
     "output_type": "stream",
     "text": [
      "Configuration List:  [0, 1, 2, 3, 4]  Request:  0  Cost:  1\n",
      "Configuration List:  [1, 0, 2, 3, 4]  Request:  1  Cost:  2\n",
      "Configuration List:  [2, 1, 0, 3, 4]  Request:  2  Cost:  3\n",
      "Configuration List:  [3, 2, 1, 0, 4]  Request:  3  Cost:  4\n",
      "Configuration List:  [4, 3, 2, 1, 0]  Request:  4  Cost:  5\n",
      "Configuration List:  [0, 4, 3, 2, 1]  Request:  0  Cost:  5\n",
      "Configuration List:  [1, 0, 4, 3, 2]  Request:  1  Cost:  5\n",
      "Configuration List:  [2, 1, 0, 4, 3]  Request:  2  Cost:  5\n",
      "Configuration List:  [3, 2, 1, 0, 4]  Request:  3  Cost:  5\n",
      "Configuration List:  [4, 3, 2, 1, 0]  Request:  4  Cost:  5\n",
      "Configuration List:  [0, 4, 3, 2, 1]  Request:  0  Cost:  5\n",
      "Configuration List:  [1, 0, 4, 3, 2]  Request:  1  Cost:  5\n",
      "Configuration List:  [2, 1, 0, 4, 3]  Request:  2  Cost:  5\n",
      "Configuration List:  [3, 2, 1, 0, 4]  Request:  3  Cost:  5\n",
      "Configuration List:  [4, 3, 2, 1, 0]  Request:  4  Cost:  5\n",
      "Configuration List:  [0, 4, 3, 2, 1]  Request:  0  Cost:  5\n",
      "Configuration List:  [1, 0, 4, 3, 2]  Request:  1  Cost:  5\n",
      "Configuration List:  [2, 1, 0, 4, 3]  Request:  2  Cost:  5\n",
      "Configuration List:  [3, 2, 1, 0, 4]  Request:  3  Cost:  5\n",
      "Configuration List:  [4, 3, 2, 1, 0]  Request:  4  Cost:  5\n",
      "Configuration List:  [4, 3, 2, 1, 0]  Total Cost:  90\n"
     ]
    },
    {
     "data": {
      "text/plain": [
       "[4, 3, 2, 1, 0]"
      ]
     },
     "execution_count": 2,
     "metadata": {},
     "output_type": "execute_result"
    }
   ],
   "source": [
    "MTF([0,1,2,3,4], [0,1,2,3,4,0,1,2,3,4,0,1,2,3,4,0,1,2,3,4])"
   ]
  },
  {
   "cell_type": "markdown",
   "metadata": {},
   "source": [
    "## Problema 2\n",
    "Calcular el costo de acceso utilizando el algoritmo MTF para:\n",
    "* Lista de configuración: 0,1,2,3,4\n",
    "* Secuencia de solicitudes: 4,3,2,1,0,1,2,3,4,3,2,1,0,1,2,3,4"
   ]
  },
  {
   "cell_type": "code",
   "execution_count": 3,
   "metadata": {},
   "outputs": [
    {
     "name": "stdout",
     "output_type": "stream",
     "text": [
      "Configuration List:  [4, 0, 1, 2, 3]  Request:  4  Cost:  5\n",
      "Configuration List:  [3, 4, 0, 1, 2]  Request:  3  Cost:  5\n",
      "Configuration List:  [2, 3, 4, 0, 1]  Request:  2  Cost:  5\n",
      "Configuration List:  [1, 2, 3, 4, 0]  Request:  1  Cost:  5\n",
      "Configuration List:  [0, 1, 2, 3, 4]  Request:  0  Cost:  5\n",
      "Configuration List:  [1, 0, 2, 3, 4]  Request:  1  Cost:  2\n",
      "Configuration List:  [2, 1, 0, 3, 4]  Request:  2  Cost:  3\n",
      "Configuration List:  [3, 2, 1, 0, 4]  Request:  3  Cost:  4\n",
      "Configuration List:  [4, 3, 2, 1, 0]  Request:  4  Cost:  5\n",
      "Configuration List:  [3, 4, 2, 1, 0]  Request:  3  Cost:  2\n",
      "Configuration List:  [2, 3, 4, 1, 0]  Request:  2  Cost:  3\n",
      "Configuration List:  [1, 2, 3, 4, 0]  Request:  1  Cost:  4\n",
      "Configuration List:  [0, 1, 2, 3, 4]  Request:  0  Cost:  5\n",
      "Configuration List:  [1, 0, 2, 3, 4]  Request:  1  Cost:  2\n",
      "Configuration List:  [2, 1, 0, 3, 4]  Request:  2  Cost:  3\n",
      "Configuration List:  [3, 2, 1, 0, 4]  Request:  3  Cost:  4\n",
      "Configuration List:  [4, 3, 2, 1, 0]  Request:  4  Cost:  5\n",
      "Configuration List:  [4, 3, 2, 1, 0]  Total Cost:  67\n"
     ]
    },
    {
     "data": {
      "text/plain": [
       "[4, 3, 2, 1, 0]"
      ]
     },
     "execution_count": 3,
     "metadata": {},
     "output_type": "execute_result"
    }
   ],
   "source": [
    "MTF([0,1,2,3,4], [4,3,2,1,0,1,2,3,4,3,2,1,0,1,2,3,4])"
   ]
  },
  {
   "cell_type": "markdown",
   "metadata": {},
   "source": [
    "## Problema 3\n",
    "¿Para qué secuencia de 20 solicitudes se obtiene el mínimo costo total de acceso utilizando el algoritmo MTF para la configuración 0,1,2,3,4? ¿Cuál sería el costo total de los accesos?\n",
    "La secuencia tendría que ser la que minimice el cambio de números, es decir la que mantenga el primer número en la primera posición ya que así los accesos serían de únicamente 1 manteniendo un costo de 20 ya que sería la cantidad de solicitudes. Por lo que la secuencia sería una de 20 ceros y su total de acceso sería de 20."
   ]
  },
  {
   "cell_type": "code",
   "execution_count": 4,
   "metadata": {},
   "outputs": [
    {
     "name": "stdout",
     "output_type": "stream",
     "text": [
      "Configuration List:  [0, 1, 2, 3, 4]  Request:  0  Cost:  1\n",
      "Configuration List:  [0, 1, 2, 3, 4]  Request:  0  Cost:  1\n",
      "Configuration List:  [0, 1, 2, 3, 4]  Request:  0  Cost:  1\n",
      "Configuration List:  [0, 1, 2, 3, 4]  Request:  0  Cost:  1\n",
      "Configuration List:  [0, 1, 2, 3, 4]  Request:  0  Cost:  1\n",
      "Configuration List:  [0, 1, 2, 3, 4]  Request:  0  Cost:  1\n",
      "Configuration List:  [0, 1, 2, 3, 4]  Request:  0  Cost:  1\n",
      "Configuration List:  [0, 1, 2, 3, 4]  Request:  0  Cost:  1\n",
      "Configuration List:  [0, 1, 2, 3, 4]  Request:  0  Cost:  1\n",
      "Configuration List:  [0, 1, 2, 3, 4]  Request:  0  Cost:  1\n",
      "Configuration List:  [0, 1, 2, 3, 4]  Request:  0  Cost:  1\n",
      "Configuration List:  [0, 1, 2, 3, 4]  Request:  0  Cost:  1\n",
      "Configuration List:  [0, 1, 2, 3, 4]  Request:  0  Cost:  1\n",
      "Configuration List:  [0, 1, 2, 3, 4]  Request:  0  Cost:  1\n",
      "Configuration List:  [0, 1, 2, 3, 4]  Request:  0  Cost:  1\n",
      "Configuration List:  [0, 1, 2, 3, 4]  Request:  0  Cost:  1\n",
      "Configuration List:  [0, 1, 2, 3, 4]  Request:  0  Cost:  1\n",
      "Configuration List:  [0, 1, 2, 3, 4]  Request:  0  Cost:  1\n",
      "Configuration List:  [0, 1, 2, 3, 4]  Request:  0  Cost:  1\n",
      "Configuration List:  [0, 1, 2, 3, 4]  Request:  0  Cost:  1\n",
      "Configuration List:  [0, 1, 2, 3, 4]  Total Cost:  20\n"
     ]
    },
    {
     "data": {
      "text/plain": [
       "[0, 1, 2, 3, 4]"
      ]
     },
     "execution_count": 4,
     "metadata": {},
     "output_type": "execute_result"
    }
   ],
   "source": [
    "MTF([0,1,2,3,4], [0,0,0,0,0,0,0,0,0,0,0,0,0,0,0,0,0,0,0,0])"
   ]
  },
  {
   "cell_type": "markdown",
   "metadata": {},
   "source": [
    "## Problema 4\n",
    "¿Para qué secuencia de 20 solicitudes se obtiene el peor de los casos utilizando el algoritmo MTF para la configuración 0,1,2,3,4? ¿Cuál sería el costo total de acceso?\n",
    "La secuencia que tiene el peor de los casos sería aquella que siempre recorre el total de la configuración por lo que siempre su peor de los casos será c * s (c es la longitud de la configuración y s es la cantidad de solicitudes), por lo tanto para que esto se cumpla tiene que ser la secuencia invertida a la secuencia de la configuración, de manera que sería 4,2,3,1,0 repetida 4 veces. Por lo que su costo total sería 5 * 20 = 100."
   ]
  },
  {
   "cell_type": "code",
   "execution_count": 5,
   "metadata": {},
   "outputs": [
    {
     "name": "stdout",
     "output_type": "stream",
     "text": [
      "Configuration List:  [4, 0, 1, 2, 3]  Request:  4  Cost:  5\n",
      "Configuration List:  [3, 4, 0, 1, 2]  Request:  3  Cost:  5\n",
      "Configuration List:  [2, 3, 4, 0, 1]  Request:  2  Cost:  5\n",
      "Configuration List:  [1, 2, 3, 4, 0]  Request:  1  Cost:  5\n",
      "Configuration List:  [0, 1, 2, 3, 4]  Request:  0  Cost:  5\n",
      "Configuration List:  [4, 0, 1, 2, 3]  Request:  4  Cost:  5\n",
      "Configuration List:  [3, 4, 0, 1, 2]  Request:  3  Cost:  5\n",
      "Configuration List:  [2, 3, 4, 0, 1]  Request:  2  Cost:  5\n",
      "Configuration List:  [1, 2, 3, 4, 0]  Request:  1  Cost:  5\n",
      "Configuration List:  [0, 1, 2, 3, 4]  Request:  0  Cost:  5\n",
      "Configuration List:  [4, 0, 1, 2, 3]  Request:  4  Cost:  5\n",
      "Configuration List:  [3, 4, 0, 1, 2]  Request:  3  Cost:  5\n",
      "Configuration List:  [2, 3, 4, 0, 1]  Request:  2  Cost:  5\n",
      "Configuration List:  [1, 2, 3, 4, 0]  Request:  1  Cost:  5\n",
      "Configuration List:  [0, 1, 2, 3, 4]  Request:  0  Cost:  5\n",
      "Configuration List:  [4, 0, 1, 2, 3]  Request:  4  Cost:  5\n",
      "Configuration List:  [3, 4, 0, 1, 2]  Request:  3  Cost:  5\n",
      "Configuration List:  [2, 3, 4, 0, 1]  Request:  2  Cost:  5\n",
      "Configuration List:  [1, 2, 3, 4, 0]  Request:  1  Cost:  5\n",
      "Configuration List:  [0, 1, 2, 3, 4]  Request:  0  Cost:  5\n",
      "Configuration List:  [0, 1, 2, 3, 4]  Total Cost:  100\n"
     ]
    },
    {
     "data": {
      "text/plain": [
       "[0, 1, 2, 3, 4]"
      ]
     },
     "execution_count": 5,
     "metadata": {},
     "output_type": "execute_result"
    }
   ],
   "source": [
    "MTF([0,1,2,3,4], [4,3,2,1,0,4,3,2,1,0,4,3,2,1,0,4,3,2,1,0])"
   ]
  },
  {
   "cell_type": "markdown",
   "metadata": {},
   "source": [
    "## Problema 5\n",
    "Calcular el costo de acceso utilizando el algoritmo MTF para:\n",
    "* Lista de configuración: 0,1,2,3,4\n",
    "* Secuencia de solicitudes: 2,2,2,2,2,2,2,2,2,2,2,2,2,2,2,2,2,2,2,2"
   ]
  },
  {
   "cell_type": "code",
   "execution_count": 6,
   "metadata": {},
   "outputs": [
    {
     "name": "stdout",
     "output_type": "stream",
     "text": [
      "Configuration List:  [2, 0, 1, 3, 4]  Request:  2  Cost:  3\n",
      "Configuration List:  [2, 0, 1, 3, 4]  Request:  2  Cost:  1\n",
      "Configuration List:  [2, 0, 1, 3, 4]  Request:  2  Cost:  1\n",
      "Configuration List:  [2, 0, 1, 3, 4]  Request:  2  Cost:  1\n",
      "Configuration List:  [2, 0, 1, 3, 4]  Request:  2  Cost:  1\n",
      "Configuration List:  [2, 0, 1, 3, 4]  Request:  2  Cost:  1\n",
      "Configuration List:  [2, 0, 1, 3, 4]  Request:  2  Cost:  1\n",
      "Configuration List:  [2, 0, 1, 3, 4]  Request:  2  Cost:  1\n",
      "Configuration List:  [2, 0, 1, 3, 4]  Request:  2  Cost:  1\n",
      "Configuration List:  [2, 0, 1, 3, 4]  Request:  2  Cost:  1\n",
      "Configuration List:  [2, 0, 1, 3, 4]  Request:  2  Cost:  1\n",
      "Configuration List:  [2, 0, 1, 3, 4]  Request:  2  Cost:  1\n",
      "Configuration List:  [2, 0, 1, 3, 4]  Request:  2  Cost:  1\n",
      "Configuration List:  [2, 0, 1, 3, 4]  Request:  2  Cost:  1\n",
      "Configuration List:  [2, 0, 1, 3, 4]  Request:  2  Cost:  1\n",
      "Configuration List:  [2, 0, 1, 3, 4]  Request:  2  Cost:  1\n",
      "Configuration List:  [2, 0, 1, 3, 4]  Request:  2  Cost:  1\n",
      "Configuration List:  [2, 0, 1, 3, 4]  Request:  2  Cost:  1\n",
      "Configuration List:  [2, 0, 1, 3, 4]  Request:  2  Cost:  1\n",
      "Configuration List:  [2, 0, 1, 3, 4]  Request:  2  Cost:  1\n",
      "Configuration List:  [2, 0, 1, 3, 4]  Total Cost:  22\n"
     ]
    },
    {
     "data": {
      "text/plain": [
       "[2, 0, 1, 3, 4]"
      ]
     },
     "execution_count": 6,
     "metadata": {},
     "output_type": "execute_result"
    }
   ],
   "source": [
    "MTF([0,1,2,3,4], [2,2,2,2,2,2,2,2,2,2,2,2,2,2,2,2,2,2,2,2])"
   ]
  },
  {
   "cell_type": "markdown",
   "metadata": {},
   "source": [
    "En para el caso en que se tiene una secuencia de 20 números 3 debería de ser 20+ la cantidad de accesos que tiene que hacer para el primer caso en dónde coloca al 3 en la primera posición, por lo que sería 20 + 3 = 23, 23 es el costo total y comprobando:"
   ]
  },
  {
   "cell_type": "code",
   "execution_count": 7,
   "metadata": {},
   "outputs": [
    {
     "name": "stdout",
     "output_type": "stream",
     "text": [
      "Configuration List:  [3, 0, 1, 2, 4]  Request:  3  Cost:  4\n",
      "Configuration List:  [3, 0, 1, 2, 4]  Request:  3  Cost:  1\n",
      "Configuration List:  [3, 0, 1, 2, 4]  Request:  3  Cost:  1\n",
      "Configuration List:  [3, 0, 1, 2, 4]  Request:  3  Cost:  1\n",
      "Configuration List:  [3, 0, 1, 2, 4]  Request:  3  Cost:  1\n",
      "Configuration List:  [3, 0, 1, 2, 4]  Request:  3  Cost:  1\n",
      "Configuration List:  [3, 0, 1, 2, 4]  Request:  3  Cost:  1\n",
      "Configuration List:  [3, 0, 1, 2, 4]  Request:  3  Cost:  1\n",
      "Configuration List:  [3, 0, 1, 2, 4]  Request:  3  Cost:  1\n",
      "Configuration List:  [3, 0, 1, 2, 4]  Request:  3  Cost:  1\n",
      "Configuration List:  [3, 0, 1, 2, 4]  Request:  3  Cost:  1\n",
      "Configuration List:  [3, 0, 1, 2, 4]  Request:  3  Cost:  1\n",
      "Configuration List:  [3, 0, 1, 2, 4]  Request:  3  Cost:  1\n",
      "Configuration List:  [3, 0, 1, 2, 4]  Request:  3  Cost:  1\n",
      "Configuration List:  [3, 0, 1, 2, 4]  Request:  3  Cost:  1\n",
      "Configuration List:  [3, 0, 1, 2, 4]  Request:  3  Cost:  1\n",
      "Configuration List:  [3, 0, 1, 2, 4]  Request:  3  Cost:  1\n",
      "Configuration List:  [3, 0, 1, 2, 4]  Request:  3  Cost:  1\n",
      "Configuration List:  [3, 0, 1, 2, 4]  Request:  3  Cost:  1\n",
      "Configuration List:  [3, 0, 1, 2, 4]  Request:  3  Cost:  1\n",
      "Configuration List:  [3, 0, 1, 2, 4]  Total Cost:  23\n"
     ]
    },
    {
     "data": {
      "text/plain": [
       "[3, 0, 1, 2, 4]"
      ]
     },
     "execution_count": 7,
     "metadata": {},
     "output_type": "execute_result"
    }
   ],
   "source": [
    "MTF([0,1,2,3,4], [3,3,3,3,3,3,3,3,3,3,3,3,3,3,3,3,3,3,3,3])"
   ]
  },
  {
   "cell_type": "markdown",
   "metadata": {},
   "source": [
    "De manera que el patrón es la longitud de la solicitud n + la cantidad de accesos que tiene que realizar para encontrar el número secuencial en la primera solicitud y así colocarlo hasta adelante."
   ]
  },
  {
   "cell_type": "markdown",
   "metadata": {},
   "source": [
    "## Problema 6\n",
    "Se plantea un algoritmo mejorado de MTF: IMTF por Rakesh Mohanty y Sasmita Tripathy, basado en el concepto de mirada hacia adelante (look-ahead), en el cual, después de acceder al elemento de la posici ́on i en la lista de configuraci ́on, se mueve el elemento al frente de la lista si y s ́olo si este elemento est ́a en los pr ́oximos i - 1 elementos del elemento accedido en la solicitud de secuencia. En caso contrario, el elemento accedido no se mueve al frente de la lista de configuraci ́on. Imprima la lista de configuraci ́on, la solicitud, su costo y la configuración de la lista aplicando IMTF por cada solicitud en la secuencia. Al final, imprima el costo total de acceso usando IMTF para el mejor y el peor de los casos de MTF."
   ]
  },
  {
   "cell_type": "markdown",
   "metadata": {},
   "source": [
    "### Implementación"
   ]
  },
  {
   "cell_type": "code",
   "execution_count": 8,
   "metadata": {},
   "outputs": [],
   "source": [
    "\n",
    "# Function to remove a value from the list\n",
    "def iremoveValue(configurationList, requestList, indexRequest, binaryCounter):\n",
    "    value = requestList[indexRequest]\n",
    "    for index in range(0,len(configurationList)):\n",
    "        binaryCounter+=1\n",
    "        if value == configurationList[index]:\n",
    "            futureRequests = requestList[indexRequest+1:indexRequest+index-1]\n",
    "            for request in futureRequests:\n",
    "                if request == value:\n",
    "                    configurationList.pop(index)\n",
    "                    configurationList.insert(0,value)\n",
    "                    return [configurationList, binaryCounter]\n",
    "            return [configurationList, binaryCounter]\n",
    "    return [configurationList, binaryCounter]\n",
    "# MTF Algorithm\n",
    "def IMTF(configurationList, requestList):\n",
    "    totalCost = 0\n",
    "    for indexRequest in range(0,len(requestList)):\n",
    "        value = requestList[indexRequest]\n",
    "        cost = 0\n",
    "        configurationList, cost = iremoveValue(configurationList, requestList, indexRequest, cost)\n",
    "        totalCost += cost\n",
    "        print(\"Configuration List: \",configurationList,\" Request: \", value,\" Cost: \",cost)\n",
    "    print(\"Configuration List: \",configurationList,\" Total Cost: \",totalCost)\n",
    "    return configurationList"
   ]
  },
  {
   "cell_type": "markdown",
   "metadata": {},
   "source": [
    "### Mejor de los casos"
   ]
  },
  {
   "cell_type": "code",
   "execution_count": 9,
   "metadata": {},
   "outputs": [
    {
     "name": "stdout",
     "output_type": "stream",
     "text": [
      "Configuration List:  [0, 1, 2, 3, 4]  Request:  0  Cost:  1\n",
      "Configuration List:  [0, 1, 2, 3, 4]  Request:  0  Cost:  1\n",
      "Configuration List:  [0, 1, 2, 3, 4]  Request:  0  Cost:  1\n",
      "Configuration List:  [0, 1, 2, 3, 4]  Request:  0  Cost:  1\n",
      "Configuration List:  [0, 1, 2, 3, 4]  Request:  0  Cost:  1\n",
      "Configuration List:  [0, 1, 2, 3, 4]  Request:  0  Cost:  1\n",
      "Configuration List:  [0, 1, 2, 3, 4]  Request:  0  Cost:  1\n",
      "Configuration List:  [0, 1, 2, 3, 4]  Request:  0  Cost:  1\n",
      "Configuration List:  [0, 1, 2, 3, 4]  Request:  0  Cost:  1\n",
      "Configuration List:  [0, 1, 2, 3, 4]  Request:  0  Cost:  1\n",
      "Configuration List:  [0, 1, 2, 3, 4]  Request:  0  Cost:  1\n",
      "Configuration List:  [0, 1, 2, 3, 4]  Request:  0  Cost:  1\n",
      "Configuration List:  [0, 1, 2, 3, 4]  Request:  0  Cost:  1\n",
      "Configuration List:  [0, 1, 2, 3, 4]  Request:  0  Cost:  1\n",
      "Configuration List:  [0, 1, 2, 3, 4]  Request:  0  Cost:  1\n",
      "Configuration List:  [0, 1, 2, 3, 4]  Request:  0  Cost:  1\n",
      "Configuration List:  [0, 1, 2, 3, 4]  Request:  0  Cost:  1\n",
      "Configuration List:  [0, 1, 2, 3, 4]  Request:  0  Cost:  1\n",
      "Configuration List:  [0, 1, 2, 3, 4]  Request:  0  Cost:  1\n",
      "Configuration List:  [0, 1, 2, 3, 4]  Request:  0  Cost:  1\n",
      "Configuration List:  [0, 1, 2, 3, 4]  Total Cost:  20\n"
     ]
    },
    {
     "data": {
      "text/plain": [
       "[0, 1, 2, 3, 4]"
      ]
     },
     "execution_count": 9,
     "metadata": {},
     "output_type": "execute_result"
    }
   ],
   "source": [
    "IMTF([0,1,2,3,4], [0,0,0,0,0,0,0,0,0,0,0,0,0,0,0,0,0,0,0,0])"
   ]
  },
  {
   "cell_type": "markdown",
   "metadata": {},
   "source": [
    "### Peor de los casos"
   ]
  },
  {
   "cell_type": "code",
   "execution_count": 10,
   "metadata": {},
   "outputs": [
    {
     "name": "stdout",
     "output_type": "stream",
     "text": [
      "Configuration List:  [0, 1, 2, 3, 4]  Request:  4  Cost:  5\n",
      "Configuration List:  [0, 1, 2, 3, 4]  Request:  3  Cost:  4\n",
      "Configuration List:  [0, 1, 2, 3, 4]  Request:  2  Cost:  3\n",
      "Configuration List:  [0, 1, 2, 3, 4]  Request:  1  Cost:  2\n",
      "Configuration List:  [0, 1, 2, 3, 4]  Request:  0  Cost:  1\n",
      "Configuration List:  [0, 1, 2, 3, 4]  Request:  4  Cost:  5\n",
      "Configuration List:  [0, 1, 2, 3, 4]  Request:  3  Cost:  4\n",
      "Configuration List:  [0, 1, 2, 3, 4]  Request:  2  Cost:  3\n",
      "Configuration List:  [0, 1, 2, 3, 4]  Request:  1  Cost:  2\n",
      "Configuration List:  [0, 1, 2, 3, 4]  Request:  0  Cost:  1\n",
      "Configuration List:  [0, 1, 2, 3, 4]  Request:  4  Cost:  5\n",
      "Configuration List:  [0, 1, 2, 3, 4]  Request:  3  Cost:  4\n",
      "Configuration List:  [0, 1, 2, 3, 4]  Request:  2  Cost:  3\n",
      "Configuration List:  [0, 1, 2, 3, 4]  Request:  1  Cost:  2\n",
      "Configuration List:  [0, 1, 2, 3, 4]  Request:  0  Cost:  1\n",
      "Configuration List:  [0, 1, 2, 3, 4]  Request:  4  Cost:  5\n",
      "Configuration List:  [0, 1, 2, 3, 4]  Request:  3  Cost:  4\n",
      "Configuration List:  [0, 1, 2, 3, 4]  Request:  2  Cost:  3\n",
      "Configuration List:  [0, 1, 2, 3, 4]  Request:  1  Cost:  2\n",
      "Configuration List:  [0, 1, 2, 3, 4]  Request:  0  Cost:  1\n",
      "Configuration List:  [0, 1, 2, 3, 4]  Total Cost:  60\n"
     ]
    },
    {
     "data": {
      "text/plain": [
       "[0, 1, 2, 3, 4]"
      ]
     },
     "execution_count": 10,
     "metadata": {},
     "output_type": "execute_result"
    }
   ],
   "source": [
    "IMTF([0,1,2,3,4], [4,3,2,1,0,4,3,2,1,0,4,3,2,1,0,4,3,2,1,0])"
   ]
  }
 ],
 "metadata": {
  "kernelspec": {
   "display_name": ".venv",
   "language": "python",
   "name": "python3"
  },
  "language_info": {
   "codemirror_mode": {
    "name": "ipython",
    "version": 3
   },
   "file_extension": ".py",
   "mimetype": "text/x-python",
   "name": "python",
   "nbconvert_exporter": "python",
   "pygments_lexer": "ipython3",
   "version": "3.11.2"
  }
 },
 "nbformat": 4,
 "nbformat_minor": 2
}
