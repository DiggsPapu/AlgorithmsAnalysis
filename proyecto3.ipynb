{
 "cells": [
  {
   "cell_type": "markdown",
   "metadata": {},
   "source": [
    "# Algoritmo Move To Front (MTF)"
   ]
  },
  {
   "cell_type": "markdown",
   "metadata": {},
   "source": [
    "## Implementación"
   ]
  },
  {
   "cell_type": "code",
   "execution_count": 22,
   "metadata": {},
   "outputs": [],
   "source": [
    "\n",
    "# Function to remove a value from the list\n",
    "def removeValue(configurationList, value, binaryCounter):\n",
    "    for index in range(0,len(configurationList)):\n",
    "        binaryCounter+=1\n",
    "        if value == configurationList[index]:\n",
    "            configurationList.pop(index)\n",
    "            return [configurationList, binaryCounter]\n",
    "    return [configurationList, binaryCounter]\n",
    "# Function to add a value to the top\n",
    "def addValue(configurationList, value, binaryCounter):\n",
    "    configurationList.insert(0,value)\n",
    "    return [configurationList, binaryCounter]\n",
    "# MTF Algorithm\n",
    "def MTF(configurationList, requestList):\n",
    "    totalCost = 0\n",
    "    for request in requestList:\n",
    "        cost = 0\n",
    "        configurationList, cost = removeValue(configurationList, request, cost)\n",
    "        configurationList, cost = addValue(configurationList, request, cost)\n",
    "        totalCost += cost\n",
    "        print(\"Configuration List: \",configurationList,\" Request: \", request,\" Cost: \",cost)\n",
    "    print(\"Configuration List: \",configurationList,\" Total Cost: \",totalCost)\n",
    "    return configurationList"
   ]
  },
  {
   "cell_type": "markdown",
   "metadata": {},
   "source": [
    "## Problema 1\n",
    "Calcular el costo de acceso utilizando el algoritmo MTF para:\n",
    "* Lista de configuración: 0,1,2,3,4\n",
    "* Secuencia de solicitudes: 0,1,2,3,4,0,1,2,3,4,0,1,2,3,4,0,1,2,3,4"
   ]
  },
  {
   "cell_type": "code",
   "execution_count": 24,
   "metadata": {},
   "outputs": [
    {
     "name": "stdout",
     "output_type": "stream",
     "text": [
      "Configuration List:  [0, 1, 2, 3, 4]  Request:  0  Cost:  1\n",
      "Configuration List:  [1, 0, 2, 3, 4]  Request:  1  Cost:  2\n",
      "Configuration List:  [2, 1, 0, 3, 4]  Request:  2  Cost:  3\n",
      "Configuration List:  [3, 2, 1, 0, 4]  Request:  3  Cost:  4\n",
      "Configuration List:  [4, 3, 2, 1, 0]  Request:  4  Cost:  5\n",
      "Configuration List:  [0, 4, 3, 2, 1]  Request:  0  Cost:  5\n",
      "Configuration List:  [1, 0, 4, 3, 2]  Request:  1  Cost:  5\n",
      "Configuration List:  [2, 1, 0, 4, 3]  Request:  2  Cost:  5\n",
      "Configuration List:  [3, 2, 1, 0, 4]  Request:  3  Cost:  5\n",
      "Configuration List:  [4, 3, 2, 1, 0]  Request:  4  Cost:  5\n",
      "Configuration List:  [0, 4, 3, 2, 1]  Request:  0  Cost:  5\n",
      "Configuration List:  [1, 0, 4, 3, 2]  Request:  1  Cost:  5\n",
      "Configuration List:  [2, 1, 0, 4, 3]  Request:  2  Cost:  5\n",
      "Configuration List:  [3, 2, 1, 0, 4]  Request:  3  Cost:  5\n",
      "Configuration List:  [4, 3, 2, 1, 0]  Request:  4  Cost:  5\n",
      "Configuration List:  [0, 4, 3, 2, 1]  Request:  0  Cost:  5\n",
      "Configuration List:  [1, 0, 4, 3, 2]  Request:  1  Cost:  5\n",
      "Configuration List:  [2, 1, 0, 4, 3]  Request:  2  Cost:  5\n",
      "Configuration List:  [3, 2, 1, 0, 4]  Request:  3  Cost:  5\n",
      "Configuration List:  [4, 3, 2, 1, 0]  Request:  4  Cost:  5\n",
      "Configuration List:  [4, 3, 2, 1, 0]  Total Cost:  90\n"
     ]
    },
    {
     "data": {
      "text/plain": [
       "[4, 3, 2, 1, 0]"
      ]
     },
     "execution_count": 24,
     "metadata": {},
     "output_type": "execute_result"
    }
   ],
   "source": [
    "MTF([0,1,2,3,4], [0,1,2,3,4,0,1,2,3,4,0,1,2,3,4,0,1,2,3,4])"
   ]
  },
  {
   "cell_type": "markdown",
   "metadata": {},
   "source": [
    "## Problema 2\n",
    "Calcular el costo de acceso utilizando el algoritmo MTF para:\n",
    "* Lista de configuración: 0,1,2,3,4\n",
    "* Secuencia de solicitudes: 4,3,2,1,0,1,2,3,4,3,2,1,0,1,2,3,4"
   ]
  },
  {
   "cell_type": "code",
   "execution_count": 25,
   "metadata": {},
   "outputs": [
    {
     "name": "stdout",
     "output_type": "stream",
     "text": [
      "Configuration List:  [4, 0, 1, 2, 3]  Request:  4  Cost:  5\n",
      "Configuration List:  [3, 4, 0, 1, 2]  Request:  3  Cost:  5\n",
      "Configuration List:  [2, 3, 4, 0, 1]  Request:  2  Cost:  5\n",
      "Configuration List:  [1, 2, 3, 4, 0]  Request:  1  Cost:  5\n",
      "Configuration List:  [0, 1, 2, 3, 4]  Request:  0  Cost:  5\n",
      "Configuration List:  [1, 0, 2, 3, 4]  Request:  1  Cost:  2\n",
      "Configuration List:  [2, 1, 0, 3, 4]  Request:  2  Cost:  3\n",
      "Configuration List:  [3, 2, 1, 0, 4]  Request:  3  Cost:  4\n",
      "Configuration List:  [4, 3, 2, 1, 0]  Request:  4  Cost:  5\n",
      "Configuration List:  [3, 4, 2, 1, 0]  Request:  3  Cost:  2\n",
      "Configuration List:  [2, 3, 4, 1, 0]  Request:  2  Cost:  3\n",
      "Configuration List:  [1, 2, 3, 4, 0]  Request:  1  Cost:  4\n",
      "Configuration List:  [0, 1, 2, 3, 4]  Request:  0  Cost:  5\n",
      "Configuration List:  [1, 0, 2, 3, 4]  Request:  1  Cost:  2\n",
      "Configuration List:  [2, 1, 0, 3, 4]  Request:  2  Cost:  3\n",
      "Configuration List:  [3, 2, 1, 0, 4]  Request:  3  Cost:  4\n",
      "Configuration List:  [4, 3, 2, 1, 0]  Request:  4  Cost:  5\n",
      "Configuration List:  [4, 3, 2, 1, 0]  Total Cost:  67\n"
     ]
    },
    {
     "data": {
      "text/plain": [
       "[4, 3, 2, 1, 0]"
      ]
     },
     "execution_count": 25,
     "metadata": {},
     "output_type": "execute_result"
    }
   ],
   "source": [
    "MTF([0,1,2,3,4], [4,3,2,1,0,1,2,3,4,3,2,1,0,1,2,3,4])"
   ]
  },
  {
   "cell_type": "markdown",
   "metadata": {},
   "source": [
    "## Problema 5\n",
    "Calcular el costo de acceso utilizando el algoritmo MTF para:\n",
    "* Lista de configuración: 0,1,2,3,4\n",
    "* Secuencia de solicitudes: 2,2,2,2,2,2,2,2,2,2,2,2,2,2,2,2,2,2,2,2"
   ]
  },
  {
   "cell_type": "code",
   "execution_count": 26,
   "metadata": {},
   "outputs": [
    {
     "name": "stdout",
     "output_type": "stream",
     "text": [
      "Configuration List:  [2, 0, 1, 3, 4]  Request:  2  Cost:  3\n",
      "Configuration List:  [2, 0, 1, 3, 4]  Request:  2  Cost:  1\n",
      "Configuration List:  [2, 0, 1, 3, 4]  Request:  2  Cost:  1\n",
      "Configuration List:  [2, 0, 1, 3, 4]  Request:  2  Cost:  1\n",
      "Configuration List:  [2, 0, 1, 3, 4]  Request:  2  Cost:  1\n",
      "Configuration List:  [2, 0, 1, 3, 4]  Request:  2  Cost:  1\n",
      "Configuration List:  [2, 0, 1, 3, 4]  Request:  2  Cost:  1\n",
      "Configuration List:  [2, 0, 1, 3, 4]  Request:  2  Cost:  1\n",
      "Configuration List:  [2, 0, 1, 3, 4]  Request:  2  Cost:  1\n",
      "Configuration List:  [2, 0, 1, 3, 4]  Request:  2  Cost:  1\n",
      "Configuration List:  [2, 0, 1, 3, 4]  Request:  2  Cost:  1\n",
      "Configuration List:  [2, 0, 1, 3, 4]  Request:  2  Cost:  1\n",
      "Configuration List:  [2, 0, 1, 3, 4]  Request:  2  Cost:  1\n",
      "Configuration List:  [2, 0, 1, 3, 4]  Request:  2  Cost:  1\n",
      "Configuration List:  [2, 0, 1, 3, 4]  Request:  2  Cost:  1\n",
      "Configuration List:  [2, 0, 1, 3, 4]  Request:  2  Cost:  1\n",
      "Configuration List:  [2, 0, 1, 3, 4]  Request:  2  Cost:  1\n",
      "Configuration List:  [2, 0, 1, 3, 4]  Request:  2  Cost:  1\n",
      "Configuration List:  [2, 0, 1, 3, 4]  Request:  2  Cost:  1\n",
      "Configuration List:  [2, 0, 1, 3, 4]  Request:  2  Cost:  1\n",
      "Configuration List:  [2, 0, 1, 3, 4]  Total Cost:  22\n"
     ]
    },
    {
     "data": {
      "text/plain": [
       "[2, 0, 1, 3, 4]"
      ]
     },
     "execution_count": 26,
     "metadata": {},
     "output_type": "execute_result"
    }
   ],
   "source": [
    "MTF([0,1,2,3,4], [2,2,2,2,2,2,2,2,2,2,2,2,2,2,2,2,2,2,2,2])"
   ]
  },
  {
   "cell_type": "markdown",
   "metadata": {},
   "source": [
    "En para el caso en que se tiene una secuencia de 20 números 3 debería de ser 20+ la cantidad de accesos que tiene que hacer para el primer caso en dónde coloca al 3 en la primera posición, por lo que sería 20 + 3 = 23, 23 es el costo total y comprobando:"
   ]
  },
  {
   "cell_type": "code",
   "execution_count": 27,
   "metadata": {},
   "outputs": [
    {
     "name": "stdout",
     "output_type": "stream",
     "text": [
      "Configuration List:  [3, 0, 1, 2, 4]  Request:  3  Cost:  4\n",
      "Configuration List:  [3, 0, 1, 2, 4]  Request:  3  Cost:  1\n",
      "Configuration List:  [3, 0, 1, 2, 4]  Request:  3  Cost:  1\n",
      "Configuration List:  [3, 0, 1, 2, 4]  Request:  3  Cost:  1\n",
      "Configuration List:  [3, 0, 1, 2, 4]  Request:  3  Cost:  1\n",
      "Configuration List:  [3, 0, 1, 2, 4]  Request:  3  Cost:  1\n",
      "Configuration List:  [3, 0, 1, 2, 4]  Request:  3  Cost:  1\n",
      "Configuration List:  [3, 0, 1, 2, 4]  Request:  3  Cost:  1\n",
      "Configuration List:  [3, 0, 1, 2, 4]  Request:  3  Cost:  1\n",
      "Configuration List:  [3, 0, 1, 2, 4]  Request:  3  Cost:  1\n",
      "Configuration List:  [3, 0, 1, 2, 4]  Request:  3  Cost:  1\n",
      "Configuration List:  [3, 0, 1, 2, 4]  Request:  3  Cost:  1\n",
      "Configuration List:  [3, 0, 1, 2, 4]  Request:  3  Cost:  1\n",
      "Configuration List:  [3, 0, 1, 2, 4]  Request:  3  Cost:  1\n",
      "Configuration List:  [3, 0, 1, 2, 4]  Request:  3  Cost:  1\n",
      "Configuration List:  [3, 0, 1, 2, 4]  Request:  3  Cost:  1\n",
      "Configuration List:  [3, 0, 1, 2, 4]  Request:  3  Cost:  1\n",
      "Configuration List:  [3, 0, 1, 2, 4]  Request:  3  Cost:  1\n",
      "Configuration List:  [3, 0, 1, 2, 4]  Request:  3  Cost:  1\n",
      "Configuration List:  [3, 0, 1, 2, 4]  Request:  3  Cost:  1\n",
      "Configuration List:  [3, 0, 1, 2, 4]  Total Cost:  23\n"
     ]
    },
    {
     "data": {
      "text/plain": [
       "[3, 0, 1, 2, 4]"
      ]
     },
     "execution_count": 27,
     "metadata": {},
     "output_type": "execute_result"
    }
   ],
   "source": [
    "MTF([0,1,2,3,4], [3,3,3,3,3,3,3,3,3,3,3,3,3,3,3,3,3,3,3,3])"
   ]
  },
  {
   "cell_type": "markdown",
   "metadata": {},
   "source": [
    "De manera que el patrón es la longitud de la solicitud n + la cantidad de accesos que tiene que realizar para encontrar el número secuencial en la primera solicitud y así colocarlo hasta adelante."
   ]
  }
 ],
 "metadata": {
  "kernelspec": {
   "display_name": ".venv",
   "language": "python",
   "name": "python3"
  },
  "language_info": {
   "codemirror_mode": {
    "name": "ipython",
    "version": 3
   },
   "file_extension": ".py",
   "mimetype": "text/x-python",
   "name": "python",
   "nbconvert_exporter": "python",
   "pygments_lexer": "ipython3",
   "version": "3.11.2"
  }
 },
 "nbformat": 4,
 "nbformat_minor": 2
}
