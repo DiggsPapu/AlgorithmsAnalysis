{
 "cells": [
  {
   "cell_type": "markdown",
   "metadata": {},
   "source": [
    "# Algoritmo Move To Front (MTF)"
   ]
  },
  {
   "cell_type": "code",
   "execution_count": 5,
   "metadata": {},
   "outputs": [
    {
     "name": "stdout",
     "output_type": "stream",
     "text": [
      "h\n",
      "o\n",
      "l\n",
      "a\n",
      "s\n",
      "o\n",
      "y\n"
     ]
    }
   ],
   "source": [
    "def MTF(string):\n",
    "    # Generar Alfabeto\n",
    "    list = [chr(charCode) for charCode in range(97,122)]\n",
    "    for char in string:\n",
    "        list.remove(char)\n",
    "        list.insert(0,char)\n",
    "    \n",
    "MTF(\"holasoy\")"
   ]
  }
 ],
 "metadata": {
  "kernelspec": {
   "display_name": ".venv",
   "language": "python",
   "name": "python3"
  },
  "language_info": {
   "codemirror_mode": {
    "name": "ipython",
    "version": 3
   },
   "file_extension": ".py",
   "mimetype": "text/x-python",
   "name": "python",
   "nbconvert_exporter": "python",
   "pygments_lexer": "ipython3",
   "version": "3.11.2"
  }
 },
 "nbformat": 4,
 "nbformat_minor": 2
}
