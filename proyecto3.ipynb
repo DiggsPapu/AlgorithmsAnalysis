{
 "cells": [
  {
   "cell_type": "markdown",
   "metadata": {},
   "source": [
    "# Algoritmo Move To Front (MTF)"
   ]
  },
  {
   "cell_type": "markdown",
   "metadata": {},
   "source": [
    "## Implementación"
   ]
  },
  {
   "cell_type": "code",
   "execution_count": 18,
   "metadata": {},
   "outputs": [],
   "source": [
    "\n",
    "def removeValue(configurationList, value, binaryCounter):\n",
    "    for index in range(0,len(configurationList)):\n",
    "        binaryCounter+=1\n",
    "        if value == configurationList[index]:\n",
    "            configurationList.pop(index)\n",
    "            return [configurationList, binaryCounter]\n",
    "    return [configurationList, binaryCounter]\n",
    "def addValue(configurationList, value, binaryCounter):\n",
    "    binaryCounter+=1\n",
    "    configurationList.insert(0,value)\n",
    "    return [configurationList, binaryCounter]\n",
    "def MTF(configurationList, requestList):\n",
    "    binaryCounter = 0\n",
    "    for request in requestList:\n",
    "        print(\"Configuration List: \")\n",
    "        print(configurationList)\n",
    "        print(\"Request:\" + str(request))\n",
    "        configurationList, binaryCounter = removeValue(configurationList, request, binaryCounter)\n",
    "        configurationList, binaryCounter = addValue(configurationList, request, binaryCounter)\n",
    "    print(\"Configuration List: \")\n",
    "    print(configurationList)\n",
    "    print(\"Cost: \"+str(binaryCounter))\n",
    "    return configurationList"
   ]
  },
  {
   "cell_type": "code",
   "execution_count": 19,
   "metadata": {},
   "outputs": [
    {
     "name": "stdout",
     "output_type": "stream",
     "text": [
      "Configuration List: \n",
      "[0, 1, 2, 3, 4]\n",
      "Request:0\n",
      "Configuration List: \n",
      "[0, 1, 2, 3, 4]\n",
      "Request:1\n",
      "Configuration List: \n",
      "[1, 0, 2, 3, 4]\n",
      "Request:2\n",
      "Configuration List: \n",
      "[2, 1, 0, 3, 4]\n",
      "Request:3\n",
      "Configuration List: \n",
      "[3, 2, 1, 0, 4]\n",
      "Request:4\n",
      "Configuration List: \n",
      "[4, 3, 2, 1, 0]\n",
      "Request:0\n",
      "Configuration List: \n",
      "[0, 4, 3, 2, 1]\n",
      "Request:1\n",
      "Configuration List: \n",
      "[1, 0, 4, 3, 2]\n",
      "Request:2\n",
      "Configuration List: \n",
      "[2, 1, 0, 4, 3]\n",
      "Request:3\n",
      "Configuration List: \n",
      "[3, 2, 1, 0, 4]\n",
      "Request:4\n",
      "Configuration List: \n",
      "[4, 3, 2, 1, 0]\n",
      "Request:0\n",
      "Configuration List: \n",
      "[0, 4, 3, 2, 1]\n",
      "Request:1\n",
      "Configuration List: \n",
      "[1, 0, 4, 3, 2]\n",
      "Request:2\n",
      "Configuration List: \n",
      "[2, 1, 0, 4, 3]\n",
      "Request:3\n",
      "Configuration List: \n",
      "[3, 2, 1, 0, 4]\n",
      "Request:4\n",
      "Configuration List: \n",
      "[4, 3, 2, 1, 0]\n",
      "Request:0\n",
      "Configuration List: \n",
      "[0, 4, 3, 2, 1]\n",
      "Request:1\n",
      "Configuration List: \n",
      "[1, 0, 4, 3, 2]\n",
      "Request:2\n",
      "Configuration List: \n",
      "[2, 1, 0, 4, 3]\n",
      "Request:3\n",
      "Configuration List: \n",
      "[3, 2, 1, 0, 4]\n",
      "Request:4\n",
      "Configuration List: \n",
      "[4, 3, 2, 1, 0]\n",
      "Cost: 110\n"
     ]
    },
    {
     "data": {
      "text/plain": [
       "[4, 3, 2, 1, 0]"
      ]
     },
     "execution_count": 19,
     "metadata": {},
     "output_type": "execute_result"
    }
   ],
   "source": [
    "MTF([0,1,2,3,4], [0,1,2,3,4,0,1,2,3,4,0,1,2,3,4,0,1,2,3,4])"
   ]
  }
 ],
 "metadata": {
  "kernelspec": {
   "display_name": ".venv",
   "language": "python",
   "name": "python3"
  },
  "language_info": {
   "codemirror_mode": {
    "name": "ipython",
    "version": 3
   },
   "file_extension": ".py",
   "mimetype": "text/x-python",
   "name": "python",
   "nbconvert_exporter": "python",
   "pygments_lexer": "ipython3",
   "version": "3.11.2"
  }
 },
 "nbformat": 4,
 "nbformat_minor": 2
}
